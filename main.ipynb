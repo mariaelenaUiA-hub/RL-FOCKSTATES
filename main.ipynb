{
 "cells": [
  {
   "cell_type": "code",
   "execution_count": 1,
   "id": "99333bb9",
   "metadata": {},
   "outputs": [],
   "source": [
    "using QuantumOptics\n",
    "\n",
    "\n"
   ]
  },
  {
   "cell_type": "code",
   "execution_count": 2,
   "id": "01aa5db7",
   "metadata": {},
   "outputs": [
    {
     "data": {
      "text/plain": [
       "to_real_vec (generic function with 1 method)"
      ]
     },
     "metadata": {},
     "output_type": "display_data"
    }
   ],
   "source": [
    "include(\"QM_library.jl\")"
   ]
  },
  {
   "cell_type": "code",
   "execution_count": 3,
   "id": "4f52afed",
   "metadata": {},
   "outputs": [
    {
     "ename": "LoadError",
     "evalue": "LoadError: ArgumentError: Package ProgressMeter not found in current path.\n- Run `import Pkg; Pkg.add(\"ProgressMeter\")` to install the ProgressMeter package.\nin expression starting at c:\\Users\\mariaeper\\Documents\\RL-FOCKSTATES\\QuantumEnvironment.jl:2",
     "output_type": "error",
     "traceback": [
      "LoadError: ArgumentError: Package ProgressMeter not found in current path.\n",
      "- Run `import Pkg; Pkg.add(\"ProgressMeter\")` to install the ProgressMeter package.\n",
      "in expression starting at c:\\Users\\mariaeper\\Documents\\RL-FOCKSTATES\\QuantumEnvironment.jl:2\n",
      "\n",
      "Stacktrace:\n",
      " [1] macro expansion\n",
      "   @ .\\loading.jl:2296 [inlined]\n",
      " [2] macro expansion\n",
      "   @ .\\lock.jl:273 [inlined]\n",
      " [3] __require(into::Module, mod::Symbol)\n",
      "   @ Base .\\loading.jl:2271\n",
      " [4] #invoke_in_world#3\n",
      "   @ .\\essentials.jl:1089 [inlined]\n",
      " [5] invoke_in_world\n",
      "   @ .\\essentials.jl:1086 [inlined]\n",
      " [6] require(into::Module, mod::Symbol)\n",
      "   @ Base .\\loading.jl:2260\n",
      " [7] include(fname::String)\n",
      "   @ Main .\\sysimg.jl:38\n",
      " [8] top-level scope\n",
      "   @ c:\\Users\\mariaeper\\Documents\\RL-FOCKSTATES\\jl_notebook_cell_df34fa98e69747e1a8f8a730347b8e2f_W3sZmlsZQ==.jl:1"
     ]
    }
   ],
   "source": [
    "include(\"QuantumEnvironment.jl\")"
   ]
  },
  {
   "cell_type": "code",
   "execution_count": null,
   "id": "eb26c4c9",
   "metadata": {},
   "outputs": [],
   "source": [
    "    \n",
    "    \n",
    "N_mech = 3\n",
    "qub, mech, HBAR_qubit = Qubit_HO(N_mech-1, :FockBasis, 1//2)\n",
    "\n",
    "ψ0 = tensor(spindown(qub.basis), fockstate(mech.basis, 0));\n",
    "p = [1e3, 1e3];\n",
    "\n",
    "Iad = HBAR_qubit.Iad.data\n",
    "mI = HBAR_qubit.mI.data\n",
    "Ia = HBAR_qubit.Ia.data\n",
    "pI = HBAR_qubit.pI.data\n",
    "zI = HBAR_qubit.zI.data\n",
    "xI = HBAR_qubit.xI.data\n",
    "\n",
    "\n",
    "prob = SE_Fock_problem!(p)\n",
    "tspan, sol = Quantum_solver_ODE(prob)\n",
    "\n",
    "ψ_final = recomposition(sol[end])"
   ]
  }
 ],
 "metadata": {
  "kernelspec": {
   "display_name": "Julia 1.11.4",
   "language": "julia",
   "name": "julia-1.11"
  },
  "language_info": {
   "file_extension": ".jl",
   "mimetype": "application/julia",
   "name": "julia",
   "version": "1.11.4"
  }
 },
 "nbformat": 4,
 "nbformat_minor": 5
}
