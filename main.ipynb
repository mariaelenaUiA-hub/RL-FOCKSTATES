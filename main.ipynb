{
 "cells": [
  {
   "cell_type": "code",
   "execution_count": 1,
   "id": "99333bb9",
   "metadata": {},
   "outputs": [],
   "source": [
    "using QuantumOptics\n",
    "\n",
    "include(\"QM_library.jl\")\n",
    "using .QuantumLibrary\n",
    "\n",
    "\n",
    "include(\"QuantumEvolution.jl\")\n",
    "using .QuantumEvolution\n",
    "\n",
    "\n",
    "include(\"QuantumConstants.jl\")\n",
    "using .QuantumConstants\n",
    "\n",
    "\n",
    "\n",
    "\n"
   ]
  },
  {
   "cell_type": "code",
   "execution_count": 2,
   "id": "3f81a051",
   "metadata": {},
   "outputs": [],
   "source": []
  },
  {
   "cell_type": "code",
   "execution_count": 3,
   "id": "42a54874",
   "metadata": {},
   "outputs": [],
   "source": [
    "    \n"
   ]
  },
  {
   "cell_type": "code",
   "execution_count": 2,
   "id": "eb26c4c9",
   "metadata": {},
   "outputs": [
    {
     "data": {
      "text/plain": [
       "6-element Vector{ComplexF64}:\n",
       "  -6.786435464110018e-24 + 6.997310706776672e-5im\n",
       "      0.9999998749950337 + 0.0004999999791586292im\n",
       "   5.599353239950931e-23 - 8.79895178560644e-5im\n",
       "  -1.2822772674193794e-6 - 2.073591211986485e-9im\n",
       "   6.037022844569646e-28 - 2.4116634593090116e-10im\n",
       " -0.00010801517528816705 + 1.2058317296542677e-10im"
      ]
     },
     "metadata": {},
     "output_type": "display_data"
    }
   ],
   "source": [
    "\n",
    "Δ= 1e-3\n",
    "Ω = 1e-3\n",
    "\n",
    "qub, mech, _ = Qubit_HO(N_fock_cutoff-1, :FockBasis, 1//2)\n",
    "\n",
    "p = (Δ,Ω)\n",
    "\n",
    "ψ0 = tensor(spindown(qub.basis), fockstate(mech.basis, 0));\n",
    "\n",
    "prob = SE_Fock_problem!(p,ψ0)\n",
    "tspan, sol = Quantum_solver_ODE(prob)\n",
    "\n",
    "ψ_final = recomposition(sol[end])"
   ]
  },
  {
   "cell_type": "code",
   "execution_count": 6,
   "id": "7eb58135",
   "metadata": {},
   "outputs": [],
   "source": []
  },
  {
   "cell_type": "code",
   "execution_count": null,
   "id": "3d8511f4",
   "metadata": {},
   "outputs": [],
   "source": []
  },
  {
   "cell_type": "code",
   "execution_count": null,
   "id": "ae167378",
   "metadata": {},
   "outputs": [],
   "source": []
  },
  {
   "cell_type": "code",
   "execution_count": null,
   "id": "28cf7867",
   "metadata": {},
   "outputs": [],
   "source": []
  }
 ],
 "metadata": {
  "kernelspec": {
   "display_name": "Julia 1.11.4",
   "language": "julia",
   "name": "julia-1.11"
  },
  "language_info": {
   "file_extension": ".jl",
   "mimetype": "application/julia",
   "name": "julia",
   "version": "1.11.4"
  }
 },
 "nbformat": 4,
 "nbformat_minor": 5
}
