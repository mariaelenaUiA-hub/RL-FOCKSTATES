{
 "cells": [
  {
   "cell_type": "code",
   "execution_count": 1,
   "id": "9c2f3ae2",
   "metadata": {},
   "outputs": [
    {
     "name": "stderr",
     "output_type": "stream",
     "text": [
      "\u001b[32m\u001b[1m  Activating\u001b[22m\u001b[39m project at `c:\\Users\\dstir\\OneDrive - USN\\Fock ladder\\Correcting`\n"
     ]
    },
    {
     "name": "stdout",
     "output_type": "stream",
     "text": [
      "\u001b[32m\u001b[1mStatus\u001b[22m\u001b[39m `C:\\Users\\dstir\\OneDrive - USN\\Fock ladder\\Correcting\\Project.toml`\n",
      "  \u001b[90m[fbb218c0] \u001b[39mBSON v0.3.9\n",
      "  \u001b[90m[336ed68f] \u001b[39mCSV v0.10.15\n",
      "  \u001b[90m[34da2185] \u001b[39mCompat v4.16.0\n",
      "  \u001b[90m[a93c6f00] \u001b[39mDataFrames v1.7.0\n",
      "  \u001b[90m[aae7a2af] \u001b[39mDiffEqFlux v4.3.0\n",
      "  \u001b[90m[0c46a032] \u001b[39mDifferentialEquations v7.16.1\n",
      "\u001b[32m⌃\u001b[39m \u001b[90m[587475ba] \u001b[39mFlux v0.16.3\n",
      "  \u001b[90m[3bd65402] \u001b[39mOptimisers v0.4.6\n",
      "  \u001b[90m[f0f68f2c] \u001b[39mPlotlyJS v0.18.16\n",
      "  \u001b[90m[92933f4c] \u001b[39mProgressMeter v1.10.4\n",
      "  \u001b[90m[6e0679c1] \u001b[39mQuantumOptics v1.2.3\n",
      "\u001b[32m⌃\u001b[39m \u001b[90m[1ed8b502] \u001b[39mSciMLSensitivity v7.79.0\n",
      "  \u001b[90m[2913bbd2] \u001b[39mStatsBase v0.34.5\n",
      "\u001b[32m⌃\u001b[39m \u001b[90m[e88e6eb3] \u001b[39mZygote v0.7.7\n",
      "  \u001b[90m[37e2e46d] \u001b[39mLinearAlgebra\n",
      "  \u001b[90m[9a3f8284] \u001b[39mRandom\n",
      "  \u001b[90m[2f01184e] \u001b[39mSparseArrays v1.10.0\n",
      "  \u001b[90m[10745b16] \u001b[39mStatistics v1.10.0\n",
      "\u001b[36m\u001b[1mInfo\u001b[22m\u001b[39m Packages marked with \u001b[32m⌃\u001b[39m have new versions available and may be upgradable.\n"
     ]
    },
    {
     "data": {
      "application/vnd.webio.node+json": {
       "children": [],
       "instanceArgs": {
        "namespace": "html",
        "tag": "div"
       },
       "nodeType": "DOM",
       "props": {},
       "type": "node"
      },
      "text/html": [
       "<div style=\"padding: 1em; background-color: #f8d6da; border: 1px solid #f5c6cb; font-weight: bold;\">\n",
       "<p>The WebIO Jupyter extension was not detected. See the\n",
       "<a href=\"https://juliagizmos.github.io/WebIO.jl/latest/providers/ijulia/\" target=\"_blank\">\n",
       "    WebIO Jupyter integration documentation\n",
       "</a>\n",
       "for more information.\n",
       "</div>\n"
      ],
      "text/plain": [
       "WebIO._IJuliaInit()"
      ]
     },
     "metadata": {},
     "output_type": "display_data"
    }
   ],
   "source": [
    "using Pkg\n",
    "Pkg.activate(\".\")\n",
    "\n",
    "#=\n",
    "Pkg.add(\n",
    "[\"QuantumOptics\",\"Flux\", \"ProgressMeter\", \"Random\", \n",
    "\"Statistics\", \"SparseArrays\", \"Zygote\", \"LinearAlgebra\", \n",
    "\"StatsBase\",\"DiffEqFlux\",\"Optimisers\",\"Compat\",\n",
    "\"PlotlyJS\",\"DataFrames\", \"CSV\",\"BSON\"]\n",
    ")\n",
    "=#\n",
    "\n",
    "Pkg.instantiate()\n",
    "Pkg.status()\n",
    "\n",
    "#############################################\n",
    "#= Packages =#\n",
    "using Flux, ProgressMeter, Random, Statistics, QuantumOptics, SparseArrays, StatsBase, LinearAlgebra\n",
    "using Zygote, DifferentialEquations, SciMLSensitivity, DiffEqFlux, Optimisers, Compat, PlotlyJS, CSV, DataFrames, BSON\n",
    "############################################"
   ]
  },
  {
   "cell_type": "code",
   "execution_count": null,
   "id": "241f2ccd",
   "metadata": {},
   "outputs": [
    {
     "data": {
      "text/plain": [
       "to_real_vec (generic function with 1 method)"
      ]
     },
     "execution_count": 61,
     "metadata": {},
     "output_type": "execute_result"
    }
   ],
   "source": [
    "################################################\n",
    "  #= PRELIMINARY DEFINITIONS AND DYNAMICS =#\n",
    "################################################\n",
    "include(\"HBAR-qubit.jl\")\n",
    "include(\"QM_library.jl\")\n",
    "include(\"ML_NN_library.jl\")\n",
    "\n",
    "N_mech = 3\n",
    "qub, mech, HBAR_qubit = Qubit_HO(N_mech-1, :FockBasis, 1//2)\n",
    "\n",
    "ψ0 = tensor(spindown(qub.basis), fockstate(mech.basis, 0));\n",
    "p = [1e3, 1e3];\n",
    "\n",
    "Iad = HBAR_qubit.Iad.data\n",
    "mI = HBAR_qubit.mI.data\n",
    "Ia = HBAR_qubit.Ia.data\n",
    "pI = HBAR_qubit.pI.data\n",
    "zI = HBAR_qubit.zI.data\n",
    "xI = HBAR_qubit.xI.data\n",
    "\n",
    "function to_real_vec(vector)\n",
    "    real_imag = Vector{Float64}(undef, 2 * length(vector))\n",
    "    for i in eachindex(vector)\n",
    "        real_imag[2i - 1] = real(vector[i])\n",
    "        real_imag[2i]     = imag(vector[i])\n",
    "    end\n",
    "    return real_imag\n",
    "end\n",
    "\n",
    "function SE_Fock_dynamics(du, u, p, t) #\n",
    "    Δ, Ω = p\n",
    "\n",
    "    #= Hamiltonians of the problem =#\n",
    "    H_JC = g * (Iad * mI  + Ia * pI)\n",
    "    H0 = (Δ / 2) * zI\n",
    "    H_drive = Ω * xI\n",
    "\n",
    "    H_tot = H0 + H_JC + H_drive\n",
    "\n",
    "    ψ = u[1:2:end] + im * u[2:2:end]\n",
    "    dψ = -1im * H_tot * ψ\n",
    "\n",
    "    for i in 1:length(dψ)\n",
    "        du[2i-1] = real(dψ[i]) \n",
    "        du[2i] = imag(dψ[i])\n",
    "    end\n",
    "\n",
    "end\n",
    "\n",
    "function SE_Fock_problem!(p)\n",
    "    return ODEProblem(SE_Fock_dynamics, to_real_vec(ψ0.data), (0.0, 1.0), p)\n",
    "end\n",
    "\n",
    "\n",
    "\n",
    "function Quantum_solver_ODE(prob)\n",
    "    sol = solve(prob, Tsit5())\n",
    "\n",
    "    return sol.t, sol.u\n",
    "\n",
    "end\n",
    "\n",
    "prob = SE_Fock_problem!(p)\n",
    "tspan, sol = Quantum_solver_ODE(prob)\n",
    "\n",
    "ψ_final = recomposition(sol[end])"
   ]
  }
 ],
 "metadata": {
  "kernelspec": {
   "display_name": "Julia 1.10.0",
   "language": "julia",
   "name": "julia-1.10"
  },
  "language_info": {
   "file_extension": ".jl",
   "mimetype": "application/julia",
   "name": "julia",
   "version": "1.10.0"
  }
 },
 "nbformat": 4,
 "nbformat_minor": 5
}
