{
 "cells": [
  {
   "cell_type": "code",
   "execution_count": 3,
   "id": "cb0be921",
   "metadata": {},
   "outputs": [
    {
     "name": "stderr",
     "output_type": "stream",
     "text": [
      "WARNING: replacing module QuantumSystemOperators.\n"
     ]
    },
    {
     "data": {
      "text/plain": [
       "Main.RLagent"
      ]
     },
     "metadata": {},
     "output_type": "display_data"
    }
   ],
   "source": [
    "\n",
    "include(\"./QuantumConstants.jl\")\n",
    "include(\"./QuantumSystemOperators.jl\")\n",
    "include(\"./QuantumEnvironment.jl\")\n",
    "include(\"./B_spline_basis.jl\")\n",
    "include(\"./RL_PPO_agent.jl\")\n"
   ]
  },
  {
   "cell_type": "code",
   "execution_count": 4,
   "id": "1c6be808",
   "metadata": {},
   "outputs": [],
   "source": [
    "using QuantumOptics\n",
    "using .QuantumConstants \n",
    "using .QuantumSystemOperators\n",
    "using .QuantumEnvironment\n",
    "using ..B_spline_basis\n",
    "using .RLagent\n"
   ]
  },
  {
   "cell_type": "code",
   "execution_count": null,
   "id": "25b0ca2c",
   "metadata": {},
   "outputs": [],
   "source": [
    "\n",
    "\n",
    "\n",
    "\n",
    "\n",
    "    \n",
    "    \n",
    "\n",
    "\n",
    "\n",
    "    \n",
    "\n",
    "\n",
    "\n",
    "\n"
   ]
  },
  {
   "cell_type": "code",
   "execution_count": null,
   "id": "459242b7",
   "metadata": {},
   "outputs": [],
   "source": [
    "time_span = (0.0f0, T)\n",
    "\n",
    "\n",
    "initial_state_vector_data = (get_initial_state_qo()).data"
   ]
  },
  {
   "cell_type": "code",
   "execution_count": null,
   "id": "f28ecff3",
   "metadata": {},
   "outputs": [],
   "source": []
  }
 ],
 "metadata": {
  "kernelspec": {
   "display_name": "Julia 1.11.4",
   "language": "julia",
   "name": "julia-1.11"
  },
  "language_info": {
   "file_extension": ".jl",
   "mimetype": "application/julia",
   "name": "julia",
   "version": "1.11.4"
  }
 },
 "nbformat": 4,
 "nbformat_minor": 5
}
