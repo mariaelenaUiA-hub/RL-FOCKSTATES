{
 "cells": [
  {
   "cell_type": "code",
   "execution_count": 10,
   "id": "cb0be921",
   "metadata": {},
   "outputs": [
    {
     "name": "stderr",
     "output_type": "stream",
     "text": [
      "WARNING: replacing module QuantumConstants.\n",
      "WARNING: replacing module QuantumSystemOperators.\n"
     ]
    },
    {
     "data": {
      "text/plain": [
       "Main.RLagent"
      ]
     },
     "metadata": {},
     "output_type": "display_data"
    }
   ],
   "source": [
    "\n",
    "include(\"./QuantumConstants.jl\")\n",
    "include(\"./QuantumSystemOperators.jl\")\n",
    "#include(\"./QuantumEnvironment.jl\")\n",
    "include(\"./B_spline_basis.jl\")\n",
    "include(\"./RL_PPO_agent.jl\")\n"
   ]
  },
  {
   "cell_type": "code",
   "execution_count": null,
   "id": "e2c6b1b3",
   "metadata": {},
   "outputs": [],
   "source": []
  },
  {
   "cell_type": "code",
   "execution_count": 12,
   "id": "1c6be808",
   "metadata": {},
   "outputs": [],
   "source": [
    "using QuantumOptics\n",
    "using .QuantumConstants \n",
    "using .QuantumSystemOperators\n",
    "#using .QuantumEnvironment\n",
    "using ..B_spline_basis\n",
    "using .RLagent\n"
   ]
  },
  {
   "cell_type": "code",
   "execution_count": 7,
   "id": "a40ca12d",
   "metadata": {},
   "outputs": [
    {
     "name": "stdout",
     "output_type": "stream",
     "text": [
      "[1.0, 2.0, 3.0, 4.0, 5.0, 6.0]\n"
     ]
    }
   ],
   "source": [
    "# Assume dΨ is an array of complex numbers, e.g.:\n",
    "dΨ = ComplexF64[1.0 + 2.0im, 3.0 + 4.0im, 5.0 + 6.0im]\n",
    "\n",
    "# Pre-allocate du as an array of Float64 with the correct size\n",
    "du = zeros(Float64, 2 * length(dΨ))\n",
    "\n",
    "for i in 1:length(dΨ)\n",
    "    du[2i - 1] = real(dΨ[i])\n",
    "    du[2i]     = imag(dΨ[i])\n",
    "end\n",
    "\n",
    "\n",
    "println(du) # Output: [1.0, 2.0, 3.0, 4.0, 5.0, 6.0]"
   ]
  },
  {
   "cell_type": "code",
   "execution_count": null,
   "id": "25b0ca2c",
   "metadata": {},
   "outputs": [],
   "source": [
    "function schrodinger_equation!(du, u, p, t)\n",
    "    \"\"\"\n",
    "\n",
    "    Parametri `p` (tuple) contiene:\n",
    "\n",
    "    action_t: Vettore Float32 [Re(drive_b), Im(drive_b), Re(drive_q), Im(drive_q)] per l'azione di controllo.\n",
    "    system_params: Dizionario con costanti fisiche (omega_m, g)\n",
    "    \n",
    "    \"\"\"\n",
    "\n",
    "    action_t = p.action_t\n",
    "    system_params = p.system_params\n",
    "    \n",
    "\n",
    "    \n",
    "    ωm    = system_params[:omega_m] \n",
    "    g     = system_params[:g] \n",
    "\n",
    "    ωq_t  = action_t[1] #qubit frequency, controlled by RL\n",
    "    Ωx_t  = action_t[2] #drive amplitude, controlled by RL\n",
    "\n",
    "    Δ_t = ωq_t - ωm\n",
    "\n",
    "    H_free = Δ_t /2 * sigma_z_op\n",
    "\n",
    "    HC = g * (bdag_op * sigma_minus_op + b_op * sigma_plus_op  )\n",
    "\n",
    "    H_drive = Ωx_t * sigma_x_op \n",
    "\n",
    "    H  = H_free + HC + H_drive\n",
    "\n",
    "    Ψ  = u[1:2:end] .+ im * u[2:2:end]\n",
    "\n",
    "    dΨ = -1im * H * Ψ \n",
    "\n",
    "    for i in 1:length(dΨ)\n",
    "\n",
    "        du[2i -1] = real(dΨ[1])\n",
    "        du[2i]    = imag(dΨ[1])\n",
    "\n",
    "    end\n",
    "\n",
    "\n",
    "\n",
    "\n",
    "\n",
    "    \n",
    "    \n",
    "\n",
    "\n",
    "\n",
    "    \n",
    "\n",
    "\n",
    "\n",
    "\n"
   ]
  },
  {
   "cell_type": "code",
   "execution_count": null,
   "id": "459242b7",
   "metadata": {},
   "outputs": [],
   "source": [
    "time_span = (0.0f0, T)\n",
    "\n",
    "\n",
    "initial_state_vector_data = (get_initial_state_qo()).data"
   ]
  },
  {
   "cell_type": "code",
   "execution_count": null,
   "id": "f28ecff3",
   "metadata": {},
   "outputs": [],
   "source": []
  }
 ],
 "metadata": {
  "kernelspec": {
   "display_name": "Julia 1.11.4",
   "language": "julia",
   "name": "julia-1.11"
  },
  "language_info": {
   "file_extension": ".jl",
   "mimetype": "application/julia",
   "name": "julia",
   "version": "1.11.4"
  }
 },
 "nbformat": 4,
 "nbformat_minor": 5
}
